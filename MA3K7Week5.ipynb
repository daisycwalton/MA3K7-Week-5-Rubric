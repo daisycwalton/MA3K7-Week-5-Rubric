{
 "cells": [
  {
   "cell_type": "markdown",
   "id": "c307e48f-2384-4eb0-9414-8808665c7bd1",
   "metadata": {},
   "source": [
    "## MA3K7 Week 5 Rubric Code"
   ]
  },
  {
   "cell_type": "code",
   "execution_count": 10,
   "id": "972c8b3d-1a62-4b53-b681-55af6e0267a7",
   "metadata": {},
   "outputs": [
    {
     "name": "stdout",
     "output_type": "stream",
     "text": [
      "('Player 1 wins, the determinant is:', -1.0)\n"
     ]
    }
   ],
   "source": [
    "import numpy as np\n",
    "\n",
    "def winner(A):\n",
    "    # calculate the determinant of the matrix\n",
    "    det = np.linalg.det(A)\n",
    "    \n",
    "    # determine which player wins\n",
    "    if det == 0:\n",
    "        return \"Player 0 wins, the determinant is:\", det\n",
    "    else:\n",
    "        return 'Player 1 wins, the determinant is:', det\n",
    "    \n",
    "# example matrix\n",
    "A_1 = np.array([[1,0,1,1],\n",
    "                [1,0,0,0],\n",
    "                [0,0,0,1],\n",
    "                [1,1,0,1]])\n",
    "\n",
    "print(winner(A_1))"
   ]
  }
 ],
 "metadata": {
  "kernelspec": {
   "display_name": "Python 3 (ipykernel)",
   "language": "python",
   "name": "python3"
  },
  "language_info": {
   "codemirror_mode": {
    "name": "ipython",
    "version": 3
   },
   "file_extension": ".py",
   "mimetype": "text/x-python",
   "name": "python",
   "nbconvert_exporter": "python",
   "pygments_lexer": "ipython3",
   "version": "3.9.13"
  }
 },
 "nbformat": 4,
 "nbformat_minor": 5
}
